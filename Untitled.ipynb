{
 "cells": [
  {
   "cell_type": "code",
   "execution_count": 1,
   "metadata": {},
   "outputs": [],
   "source": [
    "import seaborn as sns\n",
    "\n",
    "def plot(df, col):\n",
    "    \"\"\"\n",
    "    This function combines the matplotlib hist function with the seaborn kdeplot() and rugplot() functions.\n",
    "    \n",
    "    Parameters\n",
    "    ----------\n",
    "    df: pandas dataframe\n",
    "      df containing column/s with numeric values\n",
    "     \n",
    "    col: numeric\n",
    "      numeric column either integer or float\n",
    "    \n",
    "    Returns\n",
    "    -------\n",
    "    plot\n",
    "     Returns the Axes object with the plot\n",
    "     \n",
    "     \n",
    "    \n",
    "    \"\"\"\n",
    "    return sns.distplot(df[col])\n",
    "\n",
    "\n",
    "from sklearn.model_selection import train_test_split\n",
    "from sklearn.preprocessing import StandardScaler, MinMaxScaler\n",
    "from sklearn.linear_model import LinearRegression\n",
    "from sklearn.metrics import r2_score, mean_absolute_error, mean_squared_error\n",
    "\n",
    "def evaluate_model(y_train, y_test, y_train_preds, y_test_preds):\n",
    "    \"\"\"\n",
    "    Evaluates a model, based on training and testing predictions\n",
    "    In terms of R2, Mean Absolute Error, and Root Mean Squared Error\n",
    "    --\n",
    "    Inputs:\n",
    "     - y_train - true target for training set (output of train/test split)\n",
    "     - y_test - true target for test set\n",
    "     - y_train_preds - predicted target for training set (output of model.predict)\n",
    "     - y_test_preds - predicted target for test set\n",
    "    \"\"\"\n",
    "    print(f\"Train R2: {r2_score(y_train, y_train_preds):.3f}\")\n",
    "    print(f\"Test R2: {r2_score(y_test, y_test_preds):.3f}\")\n",
    "    print(\"---\")\n",
    "    print(f\"Train MAE: {mean_absolute_error(y_train, y_train_preds):.3f}\")\n",
    "    print(f\"Test MAE: {mean_absolute_error(y_test, y_test_preds):.3f}\")\n",
    "    print(\"---\")\n",
    "    print(f\"Train RMSE: {mean_squared_error(y_train, y_train_preds, squared=False):.3f}\")\n",
    "    print(f\"Test RMSE: {mean_squared_error(y_test, y_test_preds, squared=False):.3f}\")"
   ]
  },
  {
   "cell_type": "code",
   "execution_count": null,
   "metadata": {},
   "outputs": [],
   "source": []
  }
 ],
 "metadata": {
  "kernelspec": {
   "display_name": "Python 3",
   "language": "python",
   "name": "python3"
  },
  "language_info": {
   "codemirror_mode": {
    "name": "ipython",
    "version": 3
   },
   "file_extension": ".py",
   "mimetype": "text/x-python",
   "name": "python",
   "nbconvert_exporter": "python",
   "pygments_lexer": "ipython3",
   "version": "3.8.5"
  }
 },
 "nbformat": 4,
 "nbformat_minor": 4
}
